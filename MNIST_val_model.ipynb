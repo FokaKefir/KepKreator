{
 "cells": [
  {
   "cell_type": "code",
   "execution_count": 24,
   "metadata": {},
   "outputs": [],
   "source": [
    "from tensorflow import keras\n",
    "from sklearn.model_selection import train_test_split\n",
    "import numpy as np\n",
    "\n",
    "def get_mnist():\n",
    "    (x_train, labels_train), (x_test, labels_test) = keras.datasets.mnist.load_data()\n",
    "    return x_train, x_test, labels_train, labels_test\n",
    "seed = 42\n",
    "def prepare_mnist(x_train, x_test, labels_train, labels_test, seed):\n",
    "    N_mnist = 28\n",
    "    # scaling the data\n",
    "    x_train, x_test = x_train / 255.0 * 2 - 1, x_test / 255.0 * 2 - 1\n",
    "    x_train, x_val, labels_train, labels_val \\\n",
    "        = train_test_split(x_train, labels_train, test_size=0.05, random_state=seed)\n",
    "    # for conv layers\n",
    "    x_train = x_train.reshape(-1, N_mnist, N_mnist, 1)\n",
    "    x_val = x_val.reshape(-1, N_mnist, N_mnist, 1)\n",
    "    x_test = x_test.reshape(-1, N_mnist, N_mnist, 1)\n",
    "    # all classes should be present in the validation set\n",
    "    assert np.unique(labels_val).shape == (10,), 'not all classes are represented in validation dataset'\n",
    "    # categorical labels\n",
    "    labels_train =  keras.utils.to_categorical(labels_train)\n",
    "    labels_val = keras.utils.to_categorical(labels_val)\n",
    "    labels_test = keras.utils.to_categorical(labels_test)\n",
    "    return x_train, x_val, x_test, labels_train, labels_val, labels_test"
   ]
  },
  {
   "cell_type": "code",
   "execution_count": null,
   "metadata": {},
   "outputs": [],
   "source": [
    "# augmentation\n",
    "# TODO"
   ]
  },
  {
   "cell_type": "code",
   "execution_count": 31,
   "metadata": {},
   "outputs": [],
   "source": [
    "from tensorflow import keras\n",
    "# cnn model\n",
    "def build_model():\n",
    "    activation='relu'\n",
    "    input = keras.Input(shape=(28, 28, 1))\n",
    "    out = keras.layers.Conv2D(filters=8, kernel_size=(3, 3), padding='same',\n",
    "                              activation=activation)(input)\n",
    "    out = keras.layers.BatchNormalization()(out)\n",
    "    out = keras.layers.Conv2D(filters=8, kernel_size=(3, 3), padding='same',\n",
    "                              activation=activation)(input)\n",
    "    out = keras.layers.BatchNormalization()(out)\n",
    "    out = keras.layers.MaxPool2D()(out)\n",
    "\n",
    "    out = keras.layers.Conv2D(filters=16, kernel_size=(3, 3), padding='same',\n",
    "                              activation=activation)(out)\n",
    "    out = keras.layers.BatchNormalization()(out)\n",
    "    out = keras.layers.MaxPool2D()(out)\n",
    "\n",
    "    out = keras.layers.Conv2D(filters=32, kernel_size=(3, 3), padding='same',\n",
    "                              activation=activation)(out)\n",
    "    out = keras.layers.BatchNormalization()(out)\n",
    "    out = keras.layers.MaxPool2D()(out)\n",
    "\n",
    "    out = keras.layers.Flatten()(out)\n",
    "    out = keras.layers.Dense(10, activation='softmax')(out)\n",
    "    return keras.Model(inputs=input, outputs=out, name='validation_cnn')\n",
    "\n",
    "def compile_model(model):\n",
    "    lr = 0.001\n",
    "    beta_1 = 0.9\n",
    "    beta_2 = 0.999\n",
    "    optimizer = keras.optimizers.Adam(learning_rate=lr, beta_1=beta_1, beta_2=beta_2)\n",
    "    model.compile(optimizer=optimizer, loss='categorical_crossentropy', metrics='accuracy')\n",
    "\n",
    "def get_callbacks():\n",
    "    patience = 10\n",
    "    factor = 0.8\n",
    "    es = keras.callbacks.EarlyStopping(patience=patience, verbose=1)\n",
    "    rlr = keras.callbacks.ReduceLROnPlateau(monitor='val_loss', \n",
    "            factor=factor, patience=0.5*patience, min_lr=1e-5)\n",
    "    cp = keras.callbacks.ModelCheckpoint(filepath='validation_cnn.hdf5',\n",
    "                                         save_best_only=True, verbose=1)\n",
    "    return [es, rlr, cp]"
   ]
  },
  {
   "cell_type": "code",
   "execution_count": null,
   "metadata": {},
   "outputs": [],
   "source": [
    "# training\n",
    "seed = 42\n",
    "x_train, x_test, labels_train, labels_test = get_mnist()\n",
    "x_train, x_val, x_test, labels_train, labels_val, labels_test \\\n",
    "    = prepare_mnist(x_train, x_test, labels_train, labels_test, seed)\n",
    "\n",
    "model = build_model()\n",
    "compile_model(model)\n",
    "model.summary()\n",
    "callbacks = get_callbacks()\n",
    "\n",
    "batch = 32\n",
    "epochs = 25\n",
    "\n",
    "model.fit(x_train, labels_train, epochs=epochs, batch_size=batch, \n",
    "          validation_data=(x_val, labels_val), verbose=2, callbacks=callbacks)"
   ]
  },
  {
   "cell_type": "code",
   "execution_count": 32,
   "metadata": {},
   "outputs": [
    {
     "name": "stdout",
     "output_type": "stream",
     "text": [
      "313/313 [==============================] - 2s 6ms/step\n",
      "Test accuracy: 0.9914\n",
      "Confusion matrix\n",
      "[[ 978    0    0    0    0    0    1    1    0    0]\n",
      " [   0 1133    1    0    0    0    1    0    0    0]\n",
      " [   2    0 1015    0    0    0    0    8    7    0]\n",
      " [   0    1    0  997    0    9    0    1    2    0]\n",
      " [   0    0    0    0  975    0    2    0    0    5]\n",
      " [   1    0    0    4    0  883    2    0    1    1]\n",
      " [   3    1    1    0    2    1  948    0    2    0]\n",
      " [   0    0    3    0    0    0    0 1022    1    2]\n",
      " [   0    1    0    0    1    0    1    0  970    1]\n",
      " [   0    0    0    0    6    2    1    2    5  993]]\n"
     ]
    }
   ],
   "source": [
    "# test\n",
    "import numpy as np\n",
    "from sklearn.metrics import accuracy_score, precision_score, recall_score, f1_score, roc_curve, confusion_matrix,classification_report\n",
    "\n",
    "model = keras.models.load_model('validation_cnn.hdf5')\n",
    "labels_pred = model.predict(x_test)\n",
    "\n",
    "labels_pred = np.argmax(labels_pred,1)\n",
    "labels_true = np.argmax(labels_test,1)\n",
    "print(f'Test accuracy: {accuracy_score(labels_true, labels_pred)}')\n",
    "print('Confusion matrix')\n",
    "conf=confusion_matrix(labels_true, labels_pred)\n",
    "print(conf)"
   ]
  }
 ],
 "metadata": {
  "kernelspec": {
   "display_name": "venv",
   "language": "python",
   "name": "python3"
  },
  "language_info": {
   "codemirror_mode": {
    "name": "ipython",
    "version": 3
   },
   "file_extension": ".py",
   "mimetype": "text/x-python",
   "name": "python",
   "nbconvert_exporter": "python",
   "pygments_lexer": "ipython3",
   "version": "3.10.12"
  }
 },
 "nbformat": 4,
 "nbformat_minor": 2
}
