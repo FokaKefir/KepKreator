{
  "nbformat": 4,
  "nbformat_minor": 0,
  "metadata": {
    "colab": {
      "provenance": [],
      "authorship_tag": "ABX9TyPGacvJYGraPcs6XqwcZUHV",
      "include_colab_link": true
    },
    "kernelspec": {
      "name": "python3",
      "display_name": "Python 3"
    },
    "language_info": {
      "name": "python"
    }
  },
  "cells": [
    {
      "cell_type": "markdown",
      "metadata": {
        "id": "view-in-github",
        "colab_type": "text"
      },
      "source": [
        "<a href=\"https://colab.research.google.com/github/FokaKefir/KepKreator/blob/main/MNIST2_preprocess.ipynb\" target=\"_parent\"><img src=\"https://colab.research.google.com/assets/colab-badge.svg\" alt=\"Open In Colab\"/></a>"
      ]
    },
    {
      "cell_type": "markdown",
      "source": [
        "# Import dependencies"
      ],
      "metadata": {
        "id": "6bu6hG542JlJ"
      }
    },
    {
      "cell_type": "code",
      "execution_count": 11,
      "metadata": {
        "id": "xC_pKqu6vpGv"
      },
      "outputs": [],
      "source": [
        "from tensorflow.keras.datasets import mnist\n",
        "\n",
        "import numpy as np\n",
        "import matplotlib.pyplot as plt\n",
        "from sklearn.utils import shuffle"
      ]
    },
    {
      "cell_type": "markdown",
      "source": [
        "# Load in MNIST"
      ],
      "metadata": {
        "id": "tr7RVWDG2PVl"
      }
    },
    {
      "cell_type": "code",
      "source": [
        "(x_mnist_train, y_mnist_train), (x_mnist_test, y_mnist_test) = mnist.load_data()\n",
        "x_mnist_train, x_mnist_test = x_mnist_train / 255.0, x_mnist_test / 255.0"
      ],
      "metadata": {
        "id": "IlNFITqLvw55"
      },
      "execution_count": 12,
      "outputs": []
    },
    {
      "cell_type": "code",
      "source": [
        "x_mnist_train.shape, y_mnist_train.shape"
      ],
      "metadata": {
        "colab": {
          "base_uri": "https://localhost:8080/"
        },
        "id": "kcpk6r8dwBlB",
        "outputId": "735f1208-96e8-4e9f-dfe7-916d55c5cb61"
      },
      "execution_count": 13,
      "outputs": [
        {
          "output_type": "execute_result",
          "data": {
            "text/plain": [
              "((60000, 28, 28), (60000,))"
            ]
          },
          "metadata": {},
          "execution_count": 13
        }
      ]
    },
    {
      "cell_type": "markdown",
      "source": [
        "# Generate numbers with 2 digits"
      ],
      "metadata": {
        "id": "ggZkWrF32RFG"
      }
    },
    {
      "cell_type": "code",
      "source": [
        "choosen_nums = 50"
      ],
      "metadata": {
        "id": "dE7TpfebyKvw"
      },
      "execution_count": 14,
      "outputs": []
    },
    {
      "cell_type": "code",
      "source": [
        "num_indexes = []\n",
        "for num in range(10):\n",
        "  num_indexes.append(np.random.choice(np.where(y_mnist_train == num)[0], choosen_nums, replace=False))"
      ],
      "metadata": {
        "id": "LnCtxx1kv16D"
      },
      "execution_count": 15,
      "outputs": []
    },
    {
      "cell_type": "code",
      "source": [
        "x_train = np.zeros((choosen_nums * choosen_nums * 90, 28, 2 * 28), dtype=np.float32)\n",
        "y_train = np.zeros((choosen_nums * choosen_nums * 90), dtype=np.uint8)\n",
        "ind = 0\n",
        "for first_digit in range(1, 10):\n",
        "  for last_digit in range(10):\n",
        "    for f_num_index in num_indexes[first_digit]:\n",
        "      first_num_matrix = x_mnist_train[f_num_index]\n",
        "      for l_num_index in num_indexes[last_digit]:\n",
        "        last_num_matrix = x_mnist_train[l_num_index]\n",
        "        num_matrix = np.concatenate([first_num_matrix, last_num_matrix], axis=1)\n",
        "        x_train[ind] = num_matrix\n",
        "        y_train[ind] = 10 * first_digit + last_digit\n",
        "        ind += 1"
      ],
      "metadata": {
        "id": "P88vnTz8v77_"
      },
      "execution_count": 16,
      "outputs": []
    },
    {
      "cell_type": "code",
      "source": [
        "del x_mnist_train\n",
        "del y_mnist_train\n",
        "del x_mnist_test\n",
        "del y_mnist_test"
      ],
      "metadata": {
        "id": "Nm5df7gbUz-5"
      },
      "execution_count": 17,
      "outputs": []
    },
    {
      "cell_type": "code",
      "source": [
        "x_train, y_train = shuffle(x_train, y_train)"
      ],
      "metadata": {
        "id": "Te_eQVQP08I1"
      },
      "execution_count": 18,
      "outputs": []
    },
    {
      "cell_type": "code",
      "source": [
        "x_train.shape, y_train.shape"
      ],
      "metadata": {
        "colab": {
          "base_uri": "https://localhost:8080/"
        },
        "id": "jjARlvxrxJGH",
        "outputId": "9e7f63a9-d445-4fbc-e2e3-b7cca58c29e1"
      },
      "execution_count": 19,
      "outputs": [
        {
          "output_type": "execute_result",
          "data": {
            "text/plain": [
              "((225000, 28, 56), (225000,))"
            ]
          },
          "metadata": {},
          "execution_count": 19
        }
      ]
    },
    {
      "cell_type": "code",
      "source": [
        "random_indices = np.random.choice(x_train.shape[0], 9, replace=False)\n",
        "\n",
        "plt.figure(figsize=(12, 8))\n",
        "for i, index in enumerate(random_indices, 1):\n",
        "    plt.subplot(3, 3, i)\n",
        "    plt.imshow(x_train[index], cmap='gray')\n",
        "    plt.title(f\"Label: {y_train[index]}\")\n",
        "    plt.axis('off')\n",
        "\n",
        "plt.tight_layout()\n",
        "plt.show()"
      ],
      "metadata": {
        "colab": {
          "base_uri": "https://localhost:8080/",
          "height": 757
        },
        "id": "hsozFwtXOaW4",
        "outputId": "d861679c-f8dd-4a79-9f0a-fef855c41b1b"
      },
      "execution_count": 20,
      "outputs": [
        {
          "output_type": "display_data",
          "data": {
            "text/plain": [
              "<Figure size 1200x800 with 9 Axes>"
            ],
            "image/png": "[encoded data removed]"
          },
          "metadata": {}
        }
      ]
    }
  ]
}